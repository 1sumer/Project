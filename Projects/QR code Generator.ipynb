{
 "cells": [
  {
   "cell_type": "markdown",
   "id": "013c2df2-ae85-46e3-983c-ed16f52d836d",
   "metadata": {},
   "source": [
    "# **QR code Generator**"
   ]
  },
  {
   "cell_type": "code",
   "execution_count": 1,
   "id": "e1222277-9b1b-41e5-bd2e-fc0c465c4f9f",
   "metadata": {},
   "outputs": [
    {
     "name": "stdin",
     "output_type": "stream",
     "text": [
      "Enter the Data:  www.youtube.com\n",
      "Enter the version (complexity):  15\n",
      "Enter the Box size:  2\n",
      "name it as:  Youtube\n"
     ]
    },
    {
     "name": "stdout",
     "output_type": "stream",
     "text": [
      "qr code generated and saved in the gallery\n"
     ]
    }
   ],
   "source": [
    "#pip  install QRcode\n",
    "import qrcode\n",
    " \n",
    "# Data to encode\n",
    "data = input('Enter the Data: ')\n",
    " \n",
    "version=int(input('Enter the version (complexity): '))  #maxvalue  15\n",
    "box_size=int(input('Enter the Box size: '))  # max value 10\n",
    " \n",
    "# Creating an instance of QRCode class\n",
    "qr = qrcode.QRCode(version ,box_size,border = 5)\n",
    " \n",
    "# Adding data to the instance 'qr'\n",
    "qr.add_data(data)\n",
    " \n",
    "qr.make(fit = True)\n",
    "img = qr.make_image(fill_color = 'black',back_color = 'white')\n",
    " \n",
    "f=input(\"name it as: \")     #image name\n",
    " \n",
    "img.save(f'{f}.png')\n",
    " \n",
    "print('qr code generated and saved in the gallery')"
   ]
  },
  {
   "cell_type": "code",
   "execution_count": null,
   "id": "c94c5c09-cdf7-4c46-880f-5f7b091f5cfc",
   "metadata": {},
   "outputs": [],
   "source": []
  },
  {
   "cell_type": "markdown",
   "id": "ac1e293d-4b0c-492d-a794-76f34f26281b",
   "metadata": {},
   "source": [
    "**Random PASSWORD**"
   ]
  },
  {
   "cell_type": "code",
   "execution_count": 1,
   "id": "fe9a0b50-151a-4b0c-8f59-ac10e28e63bc",
   "metadata": {},
   "outputs": [
    {
     "name": "stdout",
     "output_type": "stream",
     "text": [
      "your new Password is :- vawcsrabarxvkkhl\n"
     ]
    }
   ],
   "source": [
    "import random\n",
    "passl=['a','b','c','d','e','f','g','h','i','j','k','l','m','n','o','p','q','r','s','t','u','v','w','x','y','z']\n",
    "password=\"\"\n",
    "for x in range(16):\n",
    "    password=password+random.choices(passl)[0]\n",
    "    \n",
    "print('your new Password is :-',password)"
   ]
  },
  {
   "cell_type": "code",
   "execution_count": null,
   "id": "07d3bf80-3bba-4954-b26e-f618a7b43ec6",
   "metadata": {},
   "outputs": [],
   "source": []
  }
 ],
 "metadata": {
  "kernelspec": {
   "display_name": "Python 3 (ipykernel)",
   "language": "python",
   "name": "python3"
  },
  "language_info": {
   "codemirror_mode": {
    "name": "ipython",
    "version": 3
   },
   "file_extension": ".py",
   "mimetype": "text/x-python",
   "name": "python",
   "nbconvert_exporter": "python",
   "pygments_lexer": "ipython3",
   "version": "3.9.12"
  },
  "widgets": {
   "application/vnd.jupyter.widget-state+json": {
    "state": {},
    "version_major": 2,
    "version_minor": 0
   }
  }
 },
 "nbformat": 4,
 "nbformat_minor": 5
}
