{
 "cells": [
  {
   "cell_type": "markdown",
   "id": "2919ff4c",
   "metadata": {},
   "source": [
    "**READER**"
   ]
  },
  {
   "cell_type": "code",
   "execution_count": 13,
   "id": "330bf5a4",
   "metadata": {},
   "outputs": [
    {
     "name": "stdout",
     "output_type": "stream",
     "text": [
      "<pyttsx3.engine.Engine object at 0x000001F5A5C07AF0>\n"
     ]
    }
   ],
   "source": [
    "import pyttsx3\n",
    "book=open(r\"C:\\\\Users\\\\syed mubarak pasha\\\\OneDrive\\\\Documents\\\\Python\\\\Assignment\\\\Projects\\\\mubarak.txt\",encoding = 'cp850')\n",
    "book_text=book.readlines()\n",
    "engine=pyttsx3.init()\n",
    "for i in book_text:\n",
    "    engine.say(i)\n",
    "    engine.runAndWait()\n",
    "print(engine)"
   ]
  },
  {
   "cell_type": "markdown",
   "id": "072689c9",
   "metadata": {},
   "source": [
    "**RECORDING**"
   ]
  },
  {
   "cell_type": "code",
   "execution_count": null,
   "id": "d0d0fcf5",
   "metadata": {},
   "outputs": [],
   "source": [
    "#pip install sounddevice\n",
    "#pip install moviepy"
   ]
  },
  {
   "cell_type": "code",
   "execution_count": null,
   "id": "8b35bc0e",
   "metadata": {
    "scrolled": true
   },
   "outputs": [
    {
     "name": "stdin",
     "output_type": "stream",
     "text": [
      "Enter time limit for recording in seconds :  5\n",
      "Enter the name that you want the file to be saved with the extension .wav limi\n"
     ]
    }
   ],
   "source": [
    "import sounddevice\n",
    "from scipy.io.wavfile import write\n",
    "fs=44101\n",
    "second=int(input(\"enter the time duration in second:  \"))\n",
    "print(\"Recording....\\\\n\")\n",
    "record_voice=sounddevice.rec(int(second*fs),samplerate=fs,channels=2)\n",
    "sounddevice.wait()\n",
    "write(\"out.wav\",fs,record_voice)\n",
    "print(\"Finished...nplease Check it ...\")"
   ]
  },
  {
   "cell_type": "markdown",
   "id": "283adde0",
   "metadata": {},
   "source": [
    "**MOVIE TO AUDIO**"
   ]
  },
  {
   "cell_type": "code",
   "execution_count": 5,
   "id": "6b5e0a16",
   "metadata": {
    "scrolled": true
   },
   "outputs": [
    {
     "name": "stdout",
     "output_type": "stream",
     "text": [
      "MoviePy - Writing audio in new_audio.mp3\n"
     ]
    },
    {
     "name": "stderr",
     "output_type": "stream",
     "text": [
      "                                                                                                                       "
     ]
    },
    {
     "name": "stdout",
     "output_type": "stream",
     "text": [
      "MoviePy - Done.\n"
     ]
    },
    {
     "name": "stderr",
     "output_type": "stream",
     "text": [
      "\r"
     ]
    }
   ],
   "source": [
    "import moviepy\n",
    "import moviepy.editor\n",
    "video= moviepy.editor.VideoFileClip(r\"C:\\\\Users\\\\syed mubarak pasha\\\\Videos\\\\promo.mp4\")\n",
    "audio = video.audio\n",
    "audio.write_audiofile('new_audio.mp3')"
   ]
  },
  {
   "cell_type": "markdown",
   "id": "54867fe5",
   "metadata": {},
   "source": [
    "**PDF PASSWORD**"
   ]
  },
  {
   "cell_type": "code",
   "execution_count": null,
   "id": "40578f7f",
   "metadata": {},
   "outputs": [],
   "source": [
    "#pip install PyPDF2"
   ]
  },
  {
   "cell_type": "code",
   "execution_count": 7,
   "id": "161e45d2",
   "metadata": {},
   "outputs": [
    {
     "name": "stdout",
     "output_type": "stream",
     "text": [
      "Enter Password: ········\n",
      "Enter Password: ········\n"
     ]
    }
   ],
   "source": [
    "from PyPDF2 import PdfFileWriter, PdfFileReader\n",
    "import getpass\n",
    "pdfwriter=PdfFileWriter()\n",
    "pdf=PdfFileReader(book = open(r\"C:\\\\Users\\\\syed mubarak pasha\\\\OneDrive\\\\Documents\\\\Computer\\\\M.S. Word PDF [sscstudy.com].pdf\")\n",
    "   \n",
    "for page_num in range(2):\n",
    "    pdfwriter.addPage(pdf.getPage(page_num))\n",
    "    passw=getpass.getpass(prompt='Enter Password: ')\n",
    "    pdfwriter.encrypt(passw)\n",
    "with open('Power.pdf','wb') as f:\n",
    "    pdfwriter.write(f)"
   ]
  },
  {
   "cell_type": "code",
   "execution_count": null,
   "id": "763e651e-bce4-4e2f-963b-6a3e7e09560a",
   "metadata": {},
   "outputs": [
    {
     "name": "stdout",
     "output_type": "stream",
     "text": [
      "37\n"
     ]
    }
   ],
   "source": [
    "import pyttsx3\n",
    "import PyPDF2\n",
    "book = open(r\"C:\\\\Users\\\\syed mubarak pasha\\\\OneDrive\\\\Documents\\\\Computer\\\\M.S. Word PDF [sscstudy.com].pdf\", mode='rb')\n",
    "pdfReader = PyPDF2.PdfFileReader(book)\n",
    "pages = pdfReader.numPages\n",
    "print(pages)\n",
    "speaker = pyttsx3.init()\n",
    "page = pdfReader.getPage(6)\n",
    "text = page.extractText()\n",
    "speaker.say(text)\n",
    "speaker.runAndWait()"
   ]
  },
  {
   "cell_type": "markdown",
   "id": "cced22b4-dcca-428f-855a-1c2a413ea49e",
   "metadata": {},
   "source": [
    "# Get Wifi Password "
   ]
  },
  {
   "cell_type": "code",
   "execution_count": 1,
   "id": "b0c6d9f2",
   "metadata": {
    "scrolled": true
   },
   "outputs": [
    {
     "name": "stdout",
     "output_type": "stream",
     "text": [
      "wi-fi Name                    | Password\n",
      "_____________________________________________\n",
      "CertisuredJio2G               | CertiJio2G\n",
      "Redmi Note 10S                | 12345678\n",
      "Redmi Note 11 Pro+ 5G         | 66666666\n",
      "KLECSLAB                      | KLECSLAB@321\n",
      "ACT102650214552               | certigkm222\n",
      "vivo X80                      | syednawaz\n",
      "vivo V3                       | 12121212\n",
      "vivo 1919 2                   | nawaz123\n",
      "vivo 1919                     |  \n",
      "vivo 1908                     | 12345678\n",
      "vivo 1716                     | 123456789\n",
      "realme 6                      |  \n",
      "netpackhaksolawde             | 123456789\n",
      "girish                        | 9663350116\n",
      "analogica office              | ana#office123\n",
      "_____________                 | password illa\n",
      "Sumer Pasha                   | pcd13964\n",
      "\u001b[44m Encoding Error Occurred\n",
      "Sameer pasha                  |  \n",
      "Sameer Pasha  2               | 9C3E6B14\n",
      "Sameer Pasha                  |  \n",
      "Redmi Note 10                 | 55555555\n",
      "Redmi Note 9 Pro Max          | 12345678\n",
      "Redmi                         | 12345678\n",
      "Redmi 7                       | a9993d04b4e4\n",
      "Redmi 4A                      | 12345678\n",
      "Redmi 2                       |  \n",
      "Nokia 3.1                     | 12345678\n",
      "Mubarak                       | 12345678\n",
      "JioNet@RL_Jalappa_Inst        |  \n",
      "BwAAAG4P9AIAPwG6Redmi 4A      | FCD13964\n",
      "BrAu-UmVkbWk0QQ               |  \n",
      "Ba6s-UmVkbWk0QQ               |  \n",
      "BRbd-UmVkbWk0QQ               |  \n",
      "BFlF-UmVkbWk0QQ               |  \n",
      "BAAAAIC0054AXwEJmubarak       | 12345678\n",
      "B8Fr-UmVkbWk0QQ               |  \n",
      "B1V9-UmVkbWk0QQ               |  \n",
      "AndroidAP65F4                 | 12345678\n",
      "AndroidAP                     | 22222222\n",
      "ASUS_X003                     | 12345678\n",
      "AQAAAFj2DpQAPwExSameer Pasha  | 9C3E6B14\n"
     ]
    }
   ],
   "source": [
    "import subprocess\n",
    "meta_data = subprocess.check_output(['netsh','wlan','show','profiles'])\n",
    "    \n",
    "data= meta_data.decode('utf-8', errors='backslashreplace')\n",
    "    \n",
    "data= data.split('\\n')\n",
    "\n",
    "profiles=[]\n",
    "    \n",
    "for i in data:\n",
    "    if \"All User Profile\" in i:\n",
    "        i = i.split(':')\n",
    "        i = i[1]\n",
    "        i = i[1:-1]\n",
    "        profiles.append(i)\n",
    "       \n",
    "print(\"{:<30}| {:<}\".format(\"wi-fi Name\", \"Password\"))\n",
    "print(\"_____________________________________________\")\n",
    "\n",
    "for i in profiles:\n",
    "    try:\n",
    "        results= subprocess.check_output(['netsh','wlan','show','profile',i,'key=clear'])\n",
    "        results=results.decode('utf-8', errors='backslashreplace')\n",
    "        results=results.split('\\n')\n",
    "        results=[b.split(':')[1][1:-1] for b in results if \"Key Content\" in b]\n",
    "        \n",
    "        try:\n",
    "            print(\"{:<30}| {:<}\".format(i,results[0]))\n",
    "    \n",
    "        except IndexError:\n",
    "            print(\"{:<30}| {:<}\".format(i, \" \"))\n",
    "            \n",
    "    except subprocess.CalledProcessError:\n",
    "        print('\\033[44m',\"Encoding Error Occurred\")"
   ]
  },
  {
   "cell_type": "markdown",
   "id": "7075528f",
   "metadata": {},
   "source": [
    "**SQL**"
   ]
  },
  {
   "cell_type": "code",
   "execution_count": null,
   "id": "a329e93a",
   "metadata": {},
   "outputs": [],
   "source": [
    "import sqlite3\n",
    " \n",
    "# connecting to the database\n",
    "connection = sqlite3.connect(\"sameer.db\")\n",
    " \n",
    "# cursor\n",
    "crsr = connection.cursor()\n",
    " \n",
    "# print statement will execute if there\n",
    "# are no errors\n",
    "print(\"Connected to the database\")\n",
    "\n",
    "# SQL command to create a table in the database\n",
    "sql_command = \"\"\"CREATE TABLE power (staff_number INTEGER PRIMARY KEY,fname VARCHAR(20),lname VARCHAR(30),gender CHAR(1),joining DATE);\"\"\"\n",
    "crsr.execute(sql_command)\n",
    "\n",
    "# SQL command to insert the data in the table\n",
    "sql_command = \"\"\"INSERT INTO power VALUES (23, \"Rishabh\",\\\n",
    "\"Bansal\", \"M\", \"2014-03-28\");\"\"\"\n",
    "crsr.execute(sql_command)\n",
    " \n",
    "# another SQL command to insert the data in the table\n",
    "sql_command = \"\"\"INSERT INTO power VALUES (1, \"Bill\", \"Gates\",\\\n",
    "\"M\", \"1980-10-28\");\"\"\"\n",
    "crsr.execute(sql_command)\n",
    " \n",
    "# To save the changes in the files. Never skip this.\n",
    "# If we skip this, nothing will be saved in the database.\n",
    "connection.commit()\n",
    " \n",
    "# close the connection\n",
    "connection.close()\n"
   ]
  }
 ],
 "metadata": {
  "kernelspec": {
   "display_name": "Python 3 (ipykernel)",
   "language": "python",
   "name": "python3"
  },
  "language_info": {
   "codemirror_mode": {
    "name": "ipython",
    "version": 3
   },
   "file_extension": ".py",
   "mimetype": "text/x-python",
   "name": "python",
   "nbconvert_exporter": "python",
   "pygments_lexer": "ipython3",
   "version": "3.9.12"
  },
  "vscode": {
   "interpreter": {
    "hash": "37d99e6d4983f94fd607d31c1d056b3b7a9bea88684ae051e8fd79233b8b8e0c"
   }
  },
  "widgets": {
   "application/vnd.jupyter.widget-state+json": {
    "state": {},
    "version_major": 2,
    "version_minor": 0
   }
  }
 },
 "nbformat": 4,
 "nbformat_minor": 5
}
